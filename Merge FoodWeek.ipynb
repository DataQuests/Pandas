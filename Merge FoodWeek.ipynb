{
 "cells": [
  {
   "cell_type": "markdown",
   "metadata": {},
   "source": [
    "# ...........................MERGING \"MULTIPLE\" DATAFRAMES........................... "
   ]
  },
  {
   "cell_type": "markdown",
   "metadata": {},
   "source": [
    "* Libraries"
   ]
  },
  {
   "cell_type": "code",
   "execution_count": 15,
   "metadata": {},
   "outputs": [],
   "source": [
    "import pandas as pd\n",
    "import numpy as np\n",
    "import functools"
   ]
  },
  {
   "cell_type": "markdown",
   "metadata": {},
   "source": [
    "* Dataframes"
   ]
  },
  {
   "cell_type": "code",
   "execution_count": 16,
   "metadata": {},
   "outputs": [],
   "source": [
    "baseline = pd.read_csv(\"./Datasets/Baseline.csv\")\n",
    "month_6 = pd.read_csv(\"./Datasets/Month_6.csv\")\n",
    "month_24 = pd.read_csv(\"./Datasets/Month_24.csv\")\n",
    "month_12 = pd.read_csv(\"./Datasets/Month_12.csv\")\n",
    "month_18 = pd.read_csv(\"./Datasets/Month_18.csv\")"
   ]
  },
  {
   "cell_type": "markdown",
   "metadata": {},
   "source": [
    "* Merging all dataframes at once"
   ]
  },
  {
   "cell_type": "code",
   "execution_count": 43,
   "metadata": {},
   "outputs": [],
   "source": [
    "data_frames = [baseline, month_6, month_12, month_18, month_24]\n",
    "df_merged = functools.reduce(lambda  left,right: pd.merge(left,right,on=['deidnum'], how='outer'), data_frames)\n",
    "df_merged.to_csv(\"./Datasets/merged.csv\")"
   ]
  },
  {
   "cell_type": "markdown",
   "metadata": {},
   "source": [
    "* Dropping all the rows with any null values"
   ]
  },
  {
   "cell_type": "code",
   "execution_count": null,
   "metadata": {},
   "outputs": [],
   "source": [
    "df = pd.read_csv(\"./Datasets/merged.csv\")\n",
    "df = df.dropna(how='any',axis=0, inplace = True)\n",
    "df.reset_index(drop=True, inplace=True)\n",
    "df.to_csv(\"./Datasets/merged.csv\")"
   ]
  }
 ],
 "metadata": {
  "kernelspec": {
   "display_name": "Python 3",
   "language": "python",
   "name": "python3"
  },
  "language_info": {
   "codemirror_mode": {
    "name": "ipython",
    "version": 3
   },
   "file_extension": ".py",
   "mimetype": "text/x-python",
   "name": "python",
   "nbconvert_exporter": "python",
   "pygments_lexer": "ipython3",
   "version": "3.6.5"
  }
 },
 "nbformat": 4,
 "nbformat_minor": 2
}
