{
 "cells": [
  {
   "cell_type": "markdown",
   "metadata": {},
   "source": [
    "Libraries"
   ]
  },
  {
   "cell_type": "code",
   "execution_count": 1,
   "metadata": {},
   "outputs": [],
   "source": [
    "import pandas as pd\n",
    "import numpy as np"
   ]
  },
  {
   "cell_type": "markdown",
   "metadata": {},
   "source": [
    "Import dataframes"
   ]
  },
  {
   "cell_type": "code",
   "execution_count": 2,
   "metadata": {},
   "outputs": [],
   "source": [
    "df1 = pd.read_csv(r\"C:\\Users\\Lenovo\\Documents\\Python Codes\\Combine.csv\")\n",
    "df2 = pd.read_csv(r\"C:\\Users\\Lenovo\\Documents\\Python Codes\\gender.csv\")"
   ]
  },
  {
   "cell_type": "markdown",
   "metadata": {},
   "source": [
    "Merging Dataframe (Adding Gender column)"
   ]
  },
  {
   "cell_type": "code",
   "execution_count": 3,
   "metadata": {},
   "outputs": [],
   "source": [
    "df3 = pd.merge(df1, df2, on='deidnum')\n",
    "df3 = df3.to_csv(\"./Combined_Stuff.csv\")"
   ]
  },
  {
   "cell_type": "markdown",
   "metadata": {},
   "source": [
    "Actual dataframe to work-on"
   ]
  },
  {
   "cell_type": "code",
   "execution_count": 4,
   "metadata": {},
   "outputs": [],
   "source": [
    "df = pd.read_csv(r\"C:\\Users\\Lenovo\\Documents\\Python Codes\\total.csv\")"
   ]
  },
  {
   "cell_type": "markdown",
   "metadata": {},
   "source": [
    "Converting TG & HDL to desired unit"
   ]
  },
  {
   "cell_type": "code",
   "execution_count": 5,
   "metadata": {},
   "outputs": [],
   "source": [
    "# 1 mg/dL = 18.018018 mmol/L\n",
    "\n",
    "df['TGs'] = df['TGs'].apply(lambda x: x * 18.018018)\n",
    "df['TGs 12'] = df['TGs 12'].apply(lambda x: x * 18.018018)\n",
    "df['TGs 24'] = df['TGs 24'].apply(lambda x: x * 18.018018)\n",
    "\n",
    "df['HDL'] = df['HDL'].apply(lambda x: x * 18.018018)\n",
    "df['HDL 12'] = df['HDL 12'].apply(lambda x: x * 18.018018)\n",
    "df['HDL 24'] = df['HDL 24'].apply(lambda x: x * 18.018018)"
   ]
  },
  {
   "cell_type": "markdown",
   "metadata": {},
   "source": [
    "Defining functions (formulation)"
   ]
  },
  {
   "cell_type": "code",
   "execution_count": 6,
   "metadata": {},
   "outputs": [],
   "source": [
    "def vai_m(wc, bmi, tgs, hdl):\n",
    "    z = (((wc/39.68)+(1.88*bmi))*(tgs/1.03)*(1.31/hdl))\n",
    "    return z\n",
    "\n",
    "def vai_f(wc, bmi, tgs, hdl):\n",
    "    r = (((wc/36.58)+(1.89*bmi))*(tgs/0.81)*(1.52/hdl))\n",
    "    return r"
   ]
  },
  {
   "cell_type": "markdown",
   "metadata": {},
   "source": [
    "Applying formulas based on gender"
   ]
  },
  {
   "cell_type": "code",
   "execution_count": 7,
   "metadata": {},
   "outputs": [],
   "source": [
    "conditions = [(df['Gender'] == 0), (df['Gender'] == 1)]\n",
    "\n",
    "choice1 = [df.apply(lambda x: vai_m(x['1 meanumb'], x['bmi 1'], x['TGs'], x['HDL']), axis=1),\n",
    "           df.apply(lambda x: vai_f(x['1 meanumb'], x['bmi 1'], x['TGs'], x['HDL']), axis=1)]\n",
    "\n",
    "choice2 = [df.apply(lambda x: vai_m(x['12 meanumb'], x['bmi 12'], x['TGs 12'], x['HDL 12']), axis=1),\n",
    "           df.apply(lambda x: vai_f(x['12 meanumb'], x['bmi 12'], x['TGs 12'], x['HDL 12']), axis=1)]\n",
    "\n",
    "choice3 = [df.apply(lambda x: vai_m(x['24 meanumb'], x['bmi 24'], x['TGs 24'], x['HDL 24']), axis=1),\n",
    "           df.apply(lambda x: vai_f(x['24 meanumb'], x['bmi 24'], x['TGs 24'], x['HDL 24']), axis=1)]"
   ]
  },
  {
   "cell_type": "markdown",
   "metadata": {},
   "source": [
    "Creating new columns"
   ]
  },
  {
   "cell_type": "code",
   "execution_count": 8,
   "metadata": {},
   "outputs": [],
   "source": [
    "df['VAI_bl'] = np.select(conditions, choice1, default='null')\n",
    "df['VAI_12'] = np.select(conditions, choice2, default='null')\n",
    "df['VAI_24'] = np.select(conditions, choice3, default='null')"
   ]
  },
  {
   "cell_type": "markdown",
   "metadata": {},
   "source": [
    "Saving file"
   ]
  },
  {
   "cell_type": "code",
   "execution_count": 9,
   "metadata": {},
   "outputs": [],
   "source": [
    "df.to_csv(\"./new_dataset.csv\")"
   ]
  }
 ],
 "metadata": {
  "kernelspec": {
   "display_name": "Python 3",
   "language": "python",
   "name": "python3"
  },
  "language_info": {
   "codemirror_mode": {
    "name": "ipython",
    "version": 3
   },
   "file_extension": ".py",
   "mimetype": "text/x-python",
   "name": "python",
   "nbconvert_exporter": "python",
   "pygments_lexer": "ipython3",
   "version": "3.6.5"
  }
 },
 "nbformat": 4,
 "nbformat_minor": 2
}
